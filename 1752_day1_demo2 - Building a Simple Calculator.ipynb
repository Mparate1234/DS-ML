{
 "cells": [
  {
   "cell_type": "markdown",
   "metadata": {
    "id": "_rYP6CA3fwRE"
   },
   "source": [
    "#Python Basics\n",
    "\n",
    "###Demo 2: Building a Simple Calculator"
   ]
  },
  {
   "cell_type": "code",
   "execution_count": 1,
   "metadata": {
    "colab": {
     "base_uri": "https://localhost:8080/",
     "height": 136
    },
    "id": "BSnD6mjVJHYU",
    "outputId": "ac5fff55-fb63-4949-a040-45bd9613ff5a"
   },
   "outputs": [
    {
     "name": "stdout",
     "output_type": "stream",
     "text": [
      "Enter the first number 10\n",
      "Enter another number 2\n",
      "Sum of 10 and 2 is 12\n",
      "Diff of 10 and 2 is 8\n",
      "Prod of 10 and 2 is 20\n",
      "Div of 10 and 2 is 5.0\n",
      "Mean of 10 and 2 is 6.0\n"
     ]
    }
   ],
   "source": [
    "num1 = int(input(\"Enter the first number \"))\n",
    "num2 = int(input(\"Enter another number \"))\n",
    "sum = num1 + num2\n",
    "diff = num1 - num2\n",
    "mult = num1 * num2\n",
    "div = num1 / num2\n",
    "mean = (num1+num2)/2\n",
    "print(\"Sum of {0} and {1} is {2}\".format(num1, num2,sum))\n",
    "print(\"Diff of {0} and {1} is {2}\".format(num1, num2,diff))\n",
    "print(\"Prod of {0} and {1} is {2}\".format(num1, num2,mult))\n",
    "print(\"Div of {0} and {1} is {2}\".format(num1, num2,div))\n",
    "print(\"Mean of {0} and {1} is {2}\".format(num1, num2,mean))"
   ]
  },
  {
   "cell_type": "code",
   "execution_count": null,
   "metadata": {},
   "outputs": [],
   "source": []
  }
 ],
 "metadata": {
  "colab": {
   "collapsed_sections": [],
   "name": "1752_day1_demo2 - Building a Simple Calculator.ipynb",
   "provenance": []
  },
  "kernelspec": {
   "display_name": "Python 3 (ipykernel)",
   "language": "python",
   "name": "python3"
  },
  "language_info": {
   "codemirror_mode": {
    "name": "ipython",
    "version": 3
   },
   "file_extension": ".py",
   "mimetype": "text/x-python",
   "name": "python",
   "nbconvert_exporter": "python",
   "pygments_lexer": "ipython3",
   "version": "3.9.12"
  }
 },
 "nbformat": 4,
 "nbformat_minor": 1
}
